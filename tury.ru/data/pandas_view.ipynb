{
 "cells": [
  {
   "cell_type": "code",
   "execution_count": 1,
   "id": "04ff4521",
   "metadata": {},
   "outputs": [
    {
     "data": {
      "text/html": [
       "<div>\n",
       "<style scoped>\n",
       "    .dataframe tbody tr th:only-of-type {\n",
       "        vertical-align: middle;\n",
       "    }\n",
       "\n",
       "    .dataframe tbody tr th {\n",
       "        vertical-align: top;\n",
       "    }\n",
       "\n",
       "    .dataframe thead th {\n",
       "        text-align: right;\n",
       "    }\n",
       "</style>\n",
       "<table border=\"1\" class=\"dataframe\">\n",
       "  <thead>\n",
       "    <tr style=\"text-align: right;\">\n",
       "      <th></th>\n",
       "      <th>Название</th>\n",
       "      <th>Расположение</th>\n",
       "      <th>Питание</th>\n",
       "      <th>Сервис</th>\n",
       "      <th>Отдых и концепция</th>\n",
       "    </tr>\n",
       "  </thead>\n",
       "  <tbody>\n",
       "    <tr>\n",
       "      <th>0</th>\n",
       "      <td>Anantara Angkor Resort 5+*</td>\n",
       "      <td>Камбоджа, Сиемреап (город)</td>\n",
       "      <td>None</td>\n",
       "      <td>NaN</td>\n",
       "      <td>{'Развлечения': {'Бассейны': ['Бассейн открыты...</td>\n",
       "    </tr>\n",
       "    <tr>\n",
       "      <th>1</th>\n",
       "      <td>Anantara Chiang Mai Resort 5+*</td>\n",
       "      <td>Таиланд, г.Чиангмай</td>\n",
       "      <td>None</td>\n",
       "      <td>NaN</td>\n",
       "      <td>{'Развлечения': {'Бассейны': ['Бассейн открыты...</td>\n",
       "    </tr>\n",
       "    <tr>\n",
       "      <th>2</th>\n",
       "      <td>Anantara Golden Triangle Elephant Camp &amp; Resor...</td>\n",
       "      <td>Таиланд, Голден-Траянгл</td>\n",
       "      <td>None</td>\n",
       "      <td>NaN</td>\n",
       "      <td>{'Развлечения': {'Бассейны': ['Бассейн открыты...</td>\n",
       "    </tr>\n",
       "    <tr>\n",
       "      <th>3</th>\n",
       "      <td>Anantara Maia Seychelles Villas 5+*</td>\n",
       "      <td>Сейшелы, Анс-Луи</td>\n",
       "      <td>None</td>\n",
       "      <td>NaN</td>\n",
       "      <td>{'Развлечения': {'Бассейны': ['Бассейн открыты...</td>\n",
       "    </tr>\n",
       "    <tr>\n",
       "      <th>4</th>\n",
       "      <td>Anantara Quy Nhon Villas 5+*</td>\n",
       "      <td>Вьетнам, Куиньон (Куинён) сити</td>\n",
       "      <td>None</td>\n",
       "      <td>NaN</td>\n",
       "      <td>{'Развлечения': {'Бассейны': ['Бассейн'], 'Вод...</td>\n",
       "    </tr>\n",
       "  </tbody>\n",
       "</table>\n",
       "</div>"
      ],
      "text/plain": [
       "                                            Название  \\\n",
       "0                         Anantara Angkor Resort 5+*   \n",
       "1                     Anantara Chiang Mai Resort 5+*   \n",
       "2  Anantara Golden Triangle Elephant Camp & Resor...   \n",
       "3                Anantara Maia Seychelles Villas 5+*   \n",
       "4                       Anantara Quy Nhon Villas 5+*   \n",
       "\n",
       "                     Расположение Питание  Сервис  \\\n",
       "0      Камбоджа, Сиемреап (город)    None     NaN   \n",
       "1             Таиланд, г.Чиангмай    None     NaN   \n",
       "2         Таиланд, Голден-Траянгл    None     NaN   \n",
       "3                Сейшелы, Анс-Луи    None     NaN   \n",
       "4  Вьетнам, Куиньон (Куинён) сити    None     NaN   \n",
       "\n",
       "                                   Отдых и концепция  \n",
       "0  {'Развлечения': {'Бассейны': ['Бассейн открыты...  \n",
       "1  {'Развлечения': {'Бассейны': ['Бассейн открыты...  \n",
       "2  {'Развлечения': {'Бассейны': ['Бассейн открыты...  \n",
       "3  {'Развлечения': {'Бассейны': ['Бассейн открыты...  \n",
       "4  {'Развлечения': {'Бассейны': ['Бассейн'], 'Вод...  "
      ]
     },
     "metadata": {},
     "output_type": "display_data"
    }
   ],
   "source": [
    "import pandas as pd\n",
    "\n",
    "df = pd.read_json(r'D:\\python_main\\training_env\\parsers_project\\projects\\tury.ru\\data\\file.json')\n",
    "display(df.head())"
   ]
  }
 ],
 "metadata": {
  "kernelspec": {
   "display_name": "Python 3",
   "language": "python",
   "name": "python3"
  },
  "language_info": {
   "codemirror_mode": {
    "name": "ipython",
    "version": 3
   },
   "file_extension": ".py",
   "mimetype": "text/x-python",
   "name": "python",
   "nbconvert_exporter": "python",
   "pygments_lexer": "ipython3",
   "version": "3.13.1"
  }
 },
 "nbformat": 4,
 "nbformat_minor": 5
}
