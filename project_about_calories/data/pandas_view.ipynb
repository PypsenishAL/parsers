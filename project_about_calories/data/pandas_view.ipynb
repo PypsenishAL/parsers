{
 "cells": [
  {
   "cell_type": "code",
   "execution_count": null,
   "id": "ba11977d",
   "metadata": {},
   "outputs": [
    {
     "data": {
      "text/html": [
       "<div>\n",
       "<style scoped>\n",
       "    .dataframe tbody tr th:only-of-type {\n",
       "        vertical-align: middle;\n",
       "    }\n",
       "\n",
       "    .dataframe tbody tr th {\n",
       "        vertical-align: top;\n",
       "    }\n",
       "\n",
       "    .dataframe thead th {\n",
       "        text-align: right;\n",
       "    }\n",
       "</style>\n",
       "<table border=\"1\" class=\"dataframe\">\n",
       "  <thead>\n",
       "    <tr style=\"text-align: right;\">\n",
       "      <th></th>\n",
       "      <th>Продукт</th>\n",
       "      <th>Калорийность</th>\n",
       "      <th>Белки</th>\n",
       "      <th>Жиры</th>\n",
       "      <th>Углеводы</th>\n",
       "    </tr>\n",
       "  </thead>\n",
       "  <tbody>\n",
       "    <tr>\n",
       "      <th>0</th>\n",
       "      <td>Заменитель яйца, жидкий или замороженный, обез...</td>\n",
       "      <td>48.0</td>\n",
       "      <td>10.0</td>\n",
       "      <td>0.0</td>\n",
       "      <td>2.0</td>\n",
       "    </tr>\n",
       "    <tr>\n",
       "      <th>1</th>\n",
       "      <td>Заменитель яйца, жидкий или замороженный, обез...</td>\n",
       "      <td>48.0</td>\n",
       "      <td>10.0</td>\n",
       "      <td>0.0</td>\n",
       "      <td>2.0</td>\n",
       "    </tr>\n",
       "    <tr>\n",
       "      <th>2</th>\n",
       "      <td>Заменитель яйца, порошок</td>\n",
       "      <td>444.0</td>\n",
       "      <td>55.5</td>\n",
       "      <td>13.0</td>\n",
       "      <td>21.8</td>\n",
       "    </tr>\n",
       "    <tr>\n",
       "      <th>3</th>\n",
       "      <td>Заменитель яйца, жидкий или замороженный, обез...</td>\n",
       "      <td>48.0</td>\n",
       "      <td>10.0</td>\n",
       "      <td>0.0</td>\n",
       "      <td>2.0</td>\n",
       "    </tr>\n",
       "    <tr>\n",
       "      <th>4</th>\n",
       "      <td>Заменитель яйца, порошок</td>\n",
       "      <td>444.0</td>\n",
       "      <td>55.5</td>\n",
       "      <td>13.0</td>\n",
       "      <td>21.8</td>\n",
       "    </tr>\n",
       "  </tbody>\n",
       "</table>\n",
       "</div>"
      ],
      "text/plain": [
       "                                             Продукт  Калорийность  Белки  \\\n",
       "0  Заменитель яйца, жидкий или замороженный, обез...          48.0   10.0   \n",
       "1  Заменитель яйца, жидкий или замороженный, обез...          48.0   10.0   \n",
       "2                           Заменитель яйца, порошок         444.0   55.5   \n",
       "3  Заменитель яйца, жидкий или замороженный, обез...          48.0   10.0   \n",
       "4                           Заменитель яйца, порошок         444.0   55.5   \n",
       "\n",
       "   Жиры  Углеводы  \n",
       "0   0.0       2.0  \n",
       "1   0.0       2.0  \n",
       "2  13.0      21.8  \n",
       "3   0.0       2.0  \n",
       "4  13.0      21.8  "
      ]
     },
     "metadata": {},
     "output_type": "display_data"
    }
   ],
   "source": [
    "import pandas as pd\n",
    "\n",
    "df = pd.read_csv(r'D:\\python_main\\training_env\\parsers_project\\projects\\project_about_calories\\data\\block_0.csv', delimiter=';')\n",
    "display(df.head())"
   ]
  },
  {
   "cell_type": "code",
   "execution_count": 7,
   "id": "bdb2b921",
   "metadata": {},
   "outputs": [
    {
     "name": "stdout",
     "output_type": "stream",
     "text": [
      "<class 'pandas.core.frame.DataFrame'>\n",
      "RangeIndex: 990 entries, 0 to 989\n",
      "Data columns (total 5 columns):\n",
      " #   Column        Non-Null Count  Dtype  \n",
      "---  ------        --------------  -----  \n",
      " 0   Продукт       990 non-null    object \n",
      " 1   Калорийность  990 non-null    float64\n",
      " 2   Белки         990 non-null    float64\n",
      " 3   Жиры          990 non-null    float64\n",
      " 4   Углеводы      990 non-null    float64\n",
      "dtypes: float64(4), object(1)\n",
      "memory usage: 38.8+ KB\n"
     ]
    }
   ],
   "source": [
    "df.info()"
   ]
  }
 ],
 "metadata": {
  "kernelspec": {
   "display_name": "Python 3",
   "language": "python",
   "name": "python3"
  },
  "language_info": {
   "codemirror_mode": {
    "name": "ipython",
    "version": 3
   },
   "file_extension": ".py",
   "mimetype": "text/x-python",
   "name": "python",
   "nbconvert_exporter": "python",
   "pygments_lexer": "ipython3",
   "version": "3.13.1"
  }
 },
 "nbformat": 4,
 "nbformat_minor": 5
}
